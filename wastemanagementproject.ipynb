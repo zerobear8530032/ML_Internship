{
 "cells": [
  {
   "cell_type": "code",
   "execution_count": null,
   "id": "a8078744-a87d-45d3-b840-3cbf65aaff86",
   "metadata": {},
   "outputs": [],
   "source": [
    "# data set link : https://www.kaggle.com/datasets/techsash/waste-classification-data\n",
    "# git hub Link :https://github.com/zerobear8530032/ML_Internship "
   ]
  },
  {
   "cell_type": "code",
   "execution_count": 13,
   "id": "6b026d59-5888-4288-89cd-07ac1106ec56",
   "metadata": {},
   "outputs": [],
   "source": [
    "import pandas as pd\n",
    "import matplotlib.pyplot as plt\n",
    "import os\n",
    "import numpy as np\n",
    "import cv2\n",
    "import pickle\n",
    "from sklearn.model_selection import train_test_split\n",
    "from sklearn.preprocessing import LabelEncoder\n",
    "from sklearn.ensemble import RandomForestClassifier\n",
    "from sklearn.metrics import accuracy_score\n",
    "from sklearn.metrics import confusion_matrix \n"
   ]
  },
  {
   "cell_type": "raw",
   "id": "55bceeba-aa73-4596-abd3-8d135d897694",
   "metadata": {},
   "source": [
    "the below cells are used to create data set it does not required to be used every single time "
   ]
  },
  {
   "cell_type": "code",
   "execution_count": 14,
   "id": "5bd6ec4d-6463-42b4-ab4f-4f49cb58ce26",
   "metadata": {},
   "outputs": [],
   "source": [
    "\n",
    "# creating data set \n",
    "# def get_all_file_names(path:str) ->list:\n",
    "#     list = []\n",
    "#     for f in os.listdir(path):\n",
    "#         list.append(f\"{path}/{f}\")\n",
    "#     return list;\n"
   ]
  },
  {
   "cell_type": "code",
   "execution_count": 15,
   "id": "3434be73-6db1-4bfc-9cb8-f26388faa84d",
   "metadata": {},
   "outputs": [],
   "source": [
    "# creating train data set\n",
    "# train_o=get_all_file_names(\"DATASET/TRAIN/O\")\n",
    "# train_r=get_all_file_names(\"DATASET/TRAIN/R\")\n",
    "# train=train_o+train_r"
   ]
  },
  {
   "cell_type": "code",
   "execution_count": 16,
   "id": "5d81ccc7-4119-4cc5-b4c9-40e5014189f2",
   "metadata": {},
   "outputs": [],
   "source": [
    "# creating test data set \n",
    "# test_o=get_all_file_names(\"DATASET/TEST/O\")\n",
    "# test_r=get_all_file_names(\"DATASET/TEST/R\")\n",
    "# test=test_o+test_r"
   ]
  },
  {
   "cell_type": "code",
   "execution_count": 17,
   "id": "90087c04-5189-4578-bd29-72bfdf9daf54",
   "metadata": {},
   "outputs": [],
   "source": [
    "# creating the df from the data :\n",
    "# traindf=pd.DataFrame({\"path\":train})"
   ]
  },
  {
   "cell_type": "code",
   "execution_count": 18,
   "id": "727b2f6d-0056-4ef4-b6ab-0354bece7c58",
   "metadata": {},
   "outputs": [],
   "source": [
    "# create find get_label\n",
    "# def get_label(s:str)-> str :\n",
    "#     path = s.split(\"/\")\n",
    "#     if 'O' in path[len(path)-1]:\n",
    "#         return 'O';\n",
    "#     return 'R'"
   ]
  },
  {
   "cell_type": "code",
   "execution_count": 19,
   "id": "d0729e21-cb0b-4dc1-87d6-8d43a38a413b",
   "metadata": {},
   "outputs": [],
   "source": [
    "# find the labels\n",
    "# traindf[\"label\"]=traindf[\"path\"].apply(get_label)"
   ]
  },
  {
   "cell_type": "code",
   "execution_count": 20,
   "id": "6fc9c169-c093-4f48-83fe-1f8007141da1",
   "metadata": {},
   "outputs": [],
   "source": [
    "# convert to csv :\n",
    "# traindf.to_csv(\"DATASET/waste_management.csv\",index=False)"
   ]
  },
  {
   "cell_type": "code",
   "execution_count": 21,
   "id": "5fd7b784-8796-48c5-bd02-6eb551f9baf3",
   "metadata": {},
   "outputs": [],
   "source": [
    "df= pd.read_csv(\"DATASET/waste_management.csv\");"
   ]
  },
  {
   "cell_type": "code",
   "execution_count": 22,
   "id": "38622800-6278-4e89-82b8-65fbe0f0e566",
   "metadata": {},
   "outputs": [
    {
     "data": {
      "text/html": [
       "<div>\n",
       "<style scoped>\n",
       "    .dataframe tbody tr th:only-of-type {\n",
       "        vertical-align: middle;\n",
       "    }\n",
       "\n",
       "    .dataframe tbody tr th {\n",
       "        vertical-align: top;\n",
       "    }\n",
       "\n",
       "    .dataframe thead th {\n",
       "        text-align: right;\n",
       "    }\n",
       "</style>\n",
       "<table border=\"1\" class=\"dataframe\">\n",
       "  <thead>\n",
       "    <tr style=\"text-align: right;\">\n",
       "      <th></th>\n",
       "      <th>path</th>\n",
       "      <th>label</th>\n",
       "    </tr>\n",
       "  </thead>\n",
       "  <tbody>\n",
       "    <tr>\n",
       "      <th>0</th>\n",
       "      <td>DATASET/TRAIN/O/O_1.jpg</td>\n",
       "      <td>O</td>\n",
       "    </tr>\n",
       "    <tr>\n",
       "      <th>1</th>\n",
       "      <td>DATASET/TRAIN/O/O_10.jpg</td>\n",
       "      <td>O</td>\n",
       "    </tr>\n",
       "    <tr>\n",
       "      <th>2</th>\n",
       "      <td>DATASET/TRAIN/O/O_100.jpg</td>\n",
       "      <td>O</td>\n",
       "    </tr>\n",
       "    <tr>\n",
       "      <th>3</th>\n",
       "      <td>DATASET/TRAIN/O/O_1000.jpg</td>\n",
       "      <td>O</td>\n",
       "    </tr>\n",
       "    <tr>\n",
       "      <th>4</th>\n",
       "      <td>DATASET/TRAIN/O/O_10000.jpg</td>\n",
       "      <td>O</td>\n",
       "    </tr>\n",
       "    <tr>\n",
       "      <th>...</th>\n",
       "      <td>...</td>\n",
       "      <td>...</td>\n",
       "    </tr>\n",
       "    <tr>\n",
       "      <th>22559</th>\n",
       "      <td>DATASET/TRAIN/R/R_9995.jpg</td>\n",
       "      <td>R</td>\n",
       "    </tr>\n",
       "    <tr>\n",
       "      <th>22560</th>\n",
       "      <td>DATASET/TRAIN/R/R_9996.jpg</td>\n",
       "      <td>R</td>\n",
       "    </tr>\n",
       "    <tr>\n",
       "      <th>22561</th>\n",
       "      <td>DATASET/TRAIN/R/R_9997.jpg</td>\n",
       "      <td>R</td>\n",
       "    </tr>\n",
       "    <tr>\n",
       "      <th>22562</th>\n",
       "      <td>DATASET/TRAIN/R/R_9998.jpg</td>\n",
       "      <td>R</td>\n",
       "    </tr>\n",
       "    <tr>\n",
       "      <th>22563</th>\n",
       "      <td>DATASET/TRAIN/R/R_9999.jpg</td>\n",
       "      <td>R</td>\n",
       "    </tr>\n",
       "  </tbody>\n",
       "</table>\n",
       "<p>22564 rows × 2 columns</p>\n",
       "</div>"
      ],
      "text/plain": [
       "                              path label\n",
       "0          DATASET/TRAIN/O/O_1.jpg     O\n",
       "1         DATASET/TRAIN/O/O_10.jpg     O\n",
       "2        DATASET/TRAIN/O/O_100.jpg     O\n",
       "3       DATASET/TRAIN/O/O_1000.jpg     O\n",
       "4      DATASET/TRAIN/O/O_10000.jpg     O\n",
       "...                            ...   ...\n",
       "22559   DATASET/TRAIN/R/R_9995.jpg     R\n",
       "22560   DATASET/TRAIN/R/R_9996.jpg     R\n",
       "22561   DATASET/TRAIN/R/R_9997.jpg     R\n",
       "22562   DATASET/TRAIN/R/R_9998.jpg     R\n",
       "22563   DATASET/TRAIN/R/R_9999.jpg     R\n",
       "\n",
       "[22564 rows x 2 columns]"
      ]
     },
     "execution_count": 22,
     "metadata": {},
     "output_type": "execute_result"
    }
   ],
   "source": [
    "# data set contains path of images and label where \n",
    "# O : organic \n",
    "# R : Recycle \n",
    "df"
   ]
  },
  {
   "cell_type": "code",
   "execution_count": 23,
   "id": "033140a0-61c6-4946-a490-596929c97570",
   "metadata": {},
   "outputs": [],
   "source": [
    "# Function to load and preprocess images\n",
    "# Define the image size for resizing\n",
    "\n",
    "IMAGE_SIZE = (64, 64)  # Adjust based on your needs\n",
    "def load_and_preprocess_images(df, image_folder):\n",
    "    images = []\n",
    "    labels = []\n",
    "    for idx, row in df.iterrows():\n",
    "        img_path = image_folder + row['path']\n",
    "        img = cv2.imread(img_path)\n",
    "        if img is not None:\n",
    "            img = cv2.resize(img, IMAGE_SIZE)  # Resize image\n",
    "            img_flat = img.flatten()           # Flatten the image to 1D\n",
    "            images.append(img_flat)\n",
    "            labels.append(row['label'])        # Append the label\n",
    "        # print(idx);\n",
    "    return np.array(images), np.array(labels)\n",
    "\n"
   ]
  },
  {
   "cell_type": "code",
   "execution_count": 24,
   "id": "928b11cd-2cbb-47b3-b808-3ce21242e0c1",
   "metadata": {},
   "outputs": [],
   "source": [
    "# Load and preprocess the images\n",
    "# -------------- warning this will take a lot of time for executing \n",
    "x,y = load_and_preprocess_images(df, \"\")"
   ]
  },
  {
   "cell_type": "code",
   "execution_count": 47,
   "id": "c4269116-6e56-4a1c-9af2-4bab5acadb83",
   "metadata": {},
   "outputs": [],
   "source": [
    "# apply encoder\n",
    "lc=LabelEncoder()\n",
    "y_encode= lc.fit_transform(y)"
   ]
  },
  {
   "cell_type": "code",
   "execution_count": 45,
   "id": "3ec58299-542b-4766-8efc-82db4672363b",
   "metadata": {},
   "outputs": [
    {
     "data": {
      "text/html": [
       "<div>\n",
       "<style scoped>\n",
       "    .dataframe tbody tr th:only-of-type {\n",
       "        vertical-align: middle;\n",
       "    }\n",
       "\n",
       "    .dataframe tbody tr th {\n",
       "        vertical-align: top;\n",
       "    }\n",
       "\n",
       "    .dataframe thead th {\n",
       "        text-align: right;\n",
       "    }\n",
       "</style>\n",
       "<table border=\"1\" class=\"dataframe\">\n",
       "  <thead>\n",
       "    <tr style=\"text-align: right;\">\n",
       "      <th></th>\n",
       "      <th>path</th>\n",
       "      <th>label</th>\n",
       "    </tr>\n",
       "  </thead>\n",
       "  <tbody>\n",
       "    <tr>\n",
       "      <th>0</th>\n",
       "      <td>DATASET/TRAIN/O/O_1.jpg</td>\n",
       "      <td>0</td>\n",
       "    </tr>\n",
       "    <tr>\n",
       "      <th>1</th>\n",
       "      <td>DATASET/TRAIN/O/O_10.jpg</td>\n",
       "      <td>0</td>\n",
       "    </tr>\n",
       "    <tr>\n",
       "      <th>2</th>\n",
       "      <td>DATASET/TRAIN/O/O_100.jpg</td>\n",
       "      <td>0</td>\n",
       "    </tr>\n",
       "    <tr>\n",
       "      <th>3</th>\n",
       "      <td>DATASET/TRAIN/O/O_1000.jpg</td>\n",
       "      <td>0</td>\n",
       "    </tr>\n",
       "    <tr>\n",
       "      <th>4</th>\n",
       "      <td>DATASET/TRAIN/O/O_10000.jpg</td>\n",
       "      <td>0</td>\n",
       "    </tr>\n",
       "    <tr>\n",
       "      <th>...</th>\n",
       "      <td>...</td>\n",
       "      <td>...</td>\n",
       "    </tr>\n",
       "    <tr>\n",
       "      <th>22559</th>\n",
       "      <td>DATASET/TRAIN/R/R_9995.jpg</td>\n",
       "      <td>1</td>\n",
       "    </tr>\n",
       "    <tr>\n",
       "      <th>22560</th>\n",
       "      <td>DATASET/TRAIN/R/R_9996.jpg</td>\n",
       "      <td>1</td>\n",
       "    </tr>\n",
       "    <tr>\n",
       "      <th>22561</th>\n",
       "      <td>DATASET/TRAIN/R/R_9997.jpg</td>\n",
       "      <td>1</td>\n",
       "    </tr>\n",
       "    <tr>\n",
       "      <th>22562</th>\n",
       "      <td>DATASET/TRAIN/R/R_9998.jpg</td>\n",
       "      <td>1</td>\n",
       "    </tr>\n",
       "    <tr>\n",
       "      <th>22563</th>\n",
       "      <td>DATASET/TRAIN/R/R_9999.jpg</td>\n",
       "      <td>1</td>\n",
       "    </tr>\n",
       "  </tbody>\n",
       "</table>\n",
       "<p>22564 rows × 2 columns</p>\n",
       "</div>"
      ],
      "text/plain": [
       "                              path  label\n",
       "0          DATASET/TRAIN/O/O_1.jpg      0\n",
       "1         DATASET/TRAIN/O/O_10.jpg      0\n",
       "2        DATASET/TRAIN/O/O_100.jpg      0\n",
       "3       DATASET/TRAIN/O/O_1000.jpg      0\n",
       "4      DATASET/TRAIN/O/O_10000.jpg      0\n",
       "...                            ...    ...\n",
       "22559   DATASET/TRAIN/R/R_9995.jpg      1\n",
       "22560   DATASET/TRAIN/R/R_9996.jpg      1\n",
       "22561   DATASET/TRAIN/R/R_9997.jpg      1\n",
       "22562   DATASET/TRAIN/R/R_9998.jpg      1\n",
       "22563   DATASET/TRAIN/R/R_9999.jpg      1\n",
       "\n",
       "[22564 rows x 2 columns]"
      ]
     },
     "execution_count": 45,
     "metadata": {},
     "output_type": "execute_result"
    }
   ],
   "source": [
    "# review data\n",
    "df"
   ]
  },
  {
   "cell_type": "code",
   "execution_count": 48,
   "id": "56c16760-260f-4f5d-913f-57ac88de8c2f",
   "metadata": {},
   "outputs": [],
   "source": [
    "# Split the dataset into training and testing sets\n",
    "x_train,x_test, y_train, y_test = train_test_split(x, y_encode, test_size=0.2, random_state=42)\n"
   ]
  },
  {
   "cell_type": "code",
   "execution_count": 49,
   "id": "e90d8b2b-15eb-4988-baf7-f2bf5768b830",
   "metadata": {},
   "outputs": [],
   "source": [
    "# Create a Random Forest Classifier\n",
    "clf = RandomForestClassifier(n_estimators=100, random_state=42)\n",
    "\n"
   ]
  },
  {
   "cell_type": "code",
   "execution_count": 50,
   "id": "c8bc5b43-72cf-4b56-9274-3d573e6ebc3c",
   "metadata": {},
   "outputs": [
    {
     "data": {
      "text/html": [
       "<style>#sk-container-id-2 {color: black;}#sk-container-id-2 pre{padding: 0;}#sk-container-id-2 div.sk-toggleable {background-color: white;}#sk-container-id-2 label.sk-toggleable__label {cursor: pointer;display: block;width: 100%;margin-bottom: 0;padding: 0.3em;box-sizing: border-box;text-align: center;}#sk-container-id-2 label.sk-toggleable__label-arrow:before {content: \"▸\";float: left;margin-right: 0.25em;color: #696969;}#sk-container-id-2 label.sk-toggleable__label-arrow:hover:before {color: black;}#sk-container-id-2 div.sk-estimator:hover label.sk-toggleable__label-arrow:before {color: black;}#sk-container-id-2 div.sk-toggleable__content {max-height: 0;max-width: 0;overflow: hidden;text-align: left;background-color: #f0f8ff;}#sk-container-id-2 div.sk-toggleable__content pre {margin: 0.2em;color: black;border-radius: 0.25em;background-color: #f0f8ff;}#sk-container-id-2 input.sk-toggleable__control:checked~div.sk-toggleable__content {max-height: 200px;max-width: 100%;overflow: auto;}#sk-container-id-2 input.sk-toggleable__control:checked~label.sk-toggleable__label-arrow:before {content: \"▾\";}#sk-container-id-2 div.sk-estimator input.sk-toggleable__control:checked~label.sk-toggleable__label {background-color: #d4ebff;}#sk-container-id-2 div.sk-label input.sk-toggleable__control:checked~label.sk-toggleable__label {background-color: #d4ebff;}#sk-container-id-2 input.sk-hidden--visually {border: 0;clip: rect(1px 1px 1px 1px);clip: rect(1px, 1px, 1px, 1px);height: 1px;margin: -1px;overflow: hidden;padding: 0;position: absolute;width: 1px;}#sk-container-id-2 div.sk-estimator {font-family: monospace;background-color: #f0f8ff;border: 1px dotted black;border-radius: 0.25em;box-sizing: border-box;margin-bottom: 0.5em;}#sk-container-id-2 div.sk-estimator:hover {background-color: #d4ebff;}#sk-container-id-2 div.sk-parallel-item::after {content: \"\";width: 100%;border-bottom: 1px solid gray;flex-grow: 1;}#sk-container-id-2 div.sk-label:hover label.sk-toggleable__label {background-color: #d4ebff;}#sk-container-id-2 div.sk-serial::before {content: \"\";position: absolute;border-left: 1px solid gray;box-sizing: border-box;top: 0;bottom: 0;left: 50%;z-index: 0;}#sk-container-id-2 div.sk-serial {display: flex;flex-direction: column;align-items: center;background-color: white;padding-right: 0.2em;padding-left: 0.2em;position: relative;}#sk-container-id-2 div.sk-item {position: relative;z-index: 1;}#sk-container-id-2 div.sk-parallel {display: flex;align-items: stretch;justify-content: center;background-color: white;position: relative;}#sk-container-id-2 div.sk-item::before, #sk-container-id-2 div.sk-parallel-item::before {content: \"\";position: absolute;border-left: 1px solid gray;box-sizing: border-box;top: 0;bottom: 0;left: 50%;z-index: -1;}#sk-container-id-2 div.sk-parallel-item {display: flex;flex-direction: column;z-index: 1;position: relative;background-color: white;}#sk-container-id-2 div.sk-parallel-item:first-child::after {align-self: flex-end;width: 50%;}#sk-container-id-2 div.sk-parallel-item:last-child::after {align-self: flex-start;width: 50%;}#sk-container-id-2 div.sk-parallel-item:only-child::after {width: 0;}#sk-container-id-2 div.sk-dashed-wrapped {border: 1px dashed gray;margin: 0 0.4em 0.5em 0.4em;box-sizing: border-box;padding-bottom: 0.4em;background-color: white;}#sk-container-id-2 div.sk-label label {font-family: monospace;font-weight: bold;display: inline-block;line-height: 1.2em;}#sk-container-id-2 div.sk-label-container {text-align: center;}#sk-container-id-2 div.sk-container {/* jupyter's `normalize.less` sets `[hidden] { display: none; }` but bootstrap.min.css set `[hidden] { display: none !important; }` so we also need the `!important` here to be able to override the default hidden behavior on the sphinx rendered scikit-learn.org. See: https://github.com/scikit-learn/scikit-learn/issues/21755 */display: inline-block !important;position: relative;}#sk-container-id-2 div.sk-text-repr-fallback {display: none;}</style><div id=\"sk-container-id-2\" class=\"sk-top-container\"><div class=\"sk-text-repr-fallback\"><pre>RandomForestClassifier(random_state=42)</pre><b>In a Jupyter environment, please rerun this cell to show the HTML representation or trust the notebook. <br />On GitHub, the HTML representation is unable to render, please try loading this page with nbviewer.org.</b></div><div class=\"sk-container\" hidden><div class=\"sk-item\"><div class=\"sk-estimator sk-toggleable\"><input class=\"sk-toggleable__control sk-hidden--visually\" id=\"sk-estimator-id-2\" type=\"checkbox\" checked><label for=\"sk-estimator-id-2\" class=\"sk-toggleable__label sk-toggleable__label-arrow\">RandomForestClassifier</label><div class=\"sk-toggleable__content\"><pre>RandomForestClassifier(random_state=42)</pre></div></div></div></div></div>"
      ],
      "text/plain": [
       "RandomForestClassifier(random_state=42)"
      ]
     },
     "execution_count": 50,
     "metadata": {},
     "output_type": "execute_result"
    }
   ],
   "source": [
    "# Train the model\n",
    "clf.fit(x_train, y_train)"
   ]
  },
  {
   "cell_type": "code",
   "execution_count": 51,
   "id": "00a222ef-6734-460b-8603-840a89853552",
   "metadata": {},
   "outputs": [
    {
     "name": "stdout",
     "output_type": "stream",
     "text": [
      "Accuracy: 0.8092178152005318\n"
     ]
    }
   ],
   "source": [
    "# Make predictions on the test set\n",
    "y_pred = clf.predict(x_test)\n",
    "\n",
    "# Evaluate the model's accuracy\n",
    "accuracy = accuracy_score(y_test, y_pred)\n",
    "print(f'Accuracy: {accuracy}')\n"
   ]
  },
  {
   "cell_type": "code",
   "execution_count": 52,
   "id": "47410822-f1e7-4028-a6dc-174a790ab3e0",
   "metadata": {},
   "outputs": [],
   "source": [
    "def predict(img_path: str, model) -> any:\n",
    "    IMAGE_SIZE = (64, 64) # predefined image size\n",
    "    # Check if the image path exists\n",
    "    if not os.path.exists(img_path):\n",
    "        raise FileNotFoundError(f\"File not found: {img_path}\")\n",
    "# read image\n",
    "    img = cv2.imread(img_path)  \n",
    "    if img is None:\n",
    "        raise ValueError(f\"Image cannot be converted to a usable format from: {img_path}\")\n",
    "    try:\n",
    "        # Resize the image to the defined input size\n",
    "        img = cv2.resize(img, IMAGE_SIZE)  # Ensure IMAGE_SIZE is defined (e.g., (64, 64))\n",
    "        # Flatten the image to a 1D array\n",
    "        img_flat = img.flatten().reshape(1, -1)  # Reshape for model input       \n",
    "        # Make the prediction\n",
    "        prediction = model.predict(img_flat)\n",
    "        return prediction\n",
    "    except Exception as e:\n",
    "        print(f\"An error occurred during prediction: {e}\")\n",
    "        return None\n",
    "\n"
   ]
  },
  {
   "cell_type": "code",
   "execution_count": 64,
   "id": "6c884eb1-10a9-4982-b641-8978b144f8ff",
   "metadata": {},
   "outputs": [
    {
     "name": "stdout",
     "output_type": "stream",
     "text": [
      "Predicted label: 1\n"
     ]
    }
   ],
   "source": [
    "# prediction of the model :\n",
    "pred=predict(\"DATASET/TRAIN/R/R_9995.jpg\",clf)\n",
    "try :\n",
    "    label = lc.inverse_transform(pred)  \n",
    "    print(f\"Predicted label: {label[0]}\")\n",
    "except:\n",
    "    print(\"the prediction is not one of the labels\")"
   ]
  },
  {
   "cell_type": "code",
   "execution_count": 59,
   "id": "f556f129-2099-4926-8ecb-2ceedbf91b71",
   "metadata": {},
   "outputs": [
    {
     "name": "stdout",
     "output_type": "stream",
     "text": [
      "model/waste_management_model.pkl\n"
     ]
    }
   ],
   "source": [
    "# saving model :\n",
    "def save_model(filename,model):\n",
    "# Save the model to a file\n",
    "    with open(filename, 'wb') as file:\n",
    "        pickle.dump(model, file)\n",
    "    print(f\"Model saved as {filename}\")\n"
   ]
  },
  {
   "cell_type": "code",
   "execution_count": 60,
   "id": "85a284f5-72a5-43f1-8075-eac3d84694a5",
   "metadata": {},
   "outputs": [
    {
     "name": "stdout",
     "output_type": "stream",
     "text": [
      "Model saved as model/waste_management_model.pkl\n"
     ]
    }
   ],
   "source": [
    "# save model :\n",
    "save_model(\"model/waste_management_model.pkl\",clf)"
   ]
  },
  {
   "cell_type": "code",
   "execution_count": 65,
   "id": "48df343d-90f0-44a0-b404-315fcc57c522",
   "metadata": {},
   "outputs": [
    {
     "name": "stdout",
     "output_type": "stream",
     "text": [
      "Model loaded successfully.\n"
     ]
    }
   ],
   "source": [
    "# loading model\n",
    "filename = 'model/waste_management_model.pkl'\n",
    "# Load the model from a file\n",
    "loaded_model=None\n",
    "with open(filename, 'rb') as file:\n",
    "    loaded_model = pickle.load(file)\n",
    "\n",
    "print(\"Model loaded successfully.\")\n"
   ]
  },
  {
   "cell_type": "code",
   "execution_count": 66,
   "id": "cdebc138-d3bf-4fa3-a00c-3fc0898e7b8d",
   "metadata": {},
   "outputs": [
    {
     "name": "stdout",
     "output_type": "stream",
     "text": [
      "Predicted label: 1\n"
     ]
    }
   ],
   "source": [
    "# prediction of the model : checking the model save correctly or not\n",
    "pred=predict(\"DATASET/TRAIN/R/R_9995.jpg\",loaded_model)\n",
    "try :\n",
    "    label = lc.inverse_transform(pred)  \n",
    "    print(f\"Predicted label: {label[0]}\")\n",
    "except:\n",
    "    print(\"the prediction is not one of the labels\")"
   ]
  },
  {
   "cell_type": "code",
   "execution_count": null,
   "id": "25f6d473-db54-4fe7-b77e-a89c75dfd29a",
   "metadata": {},
   "outputs": [],
   "source": []
  }
 ],
 "metadata": {
  "kernelspec": {
   "display_name": "Python 3 (ipykernel)",
   "language": "python",
   "name": "python3"
  },
  "language_info": {
   "codemirror_mode": {
    "name": "ipython",
    "version": 3
   },
   "file_extension": ".py",
   "mimetype": "text/x-python",
   "name": "python",
   "nbconvert_exporter": "python",
   "pygments_lexer": "ipython3",
   "version": "3.12.1"
  }
 },
 "nbformat": 4,
 "nbformat_minor": 5
}
